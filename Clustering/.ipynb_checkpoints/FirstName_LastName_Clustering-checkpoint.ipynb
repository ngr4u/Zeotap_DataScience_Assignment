{
 "cells": [
  {
   "cell_type": "code",
   "execution_count": 3,
   "id": "16b08a76-494a-47c5-a2cb-6f307ee50a4b",
   "metadata": {},
   "outputs": [],
   "source": [
    "import pandas as pd\n",
    "import matplotlib.pyplot as plt\n",
    "import seaborn as sns"
   ]
  },
  {
   "cell_type": "markdown",
   "id": "36e4d3ef-130e-4a23-aa2e-629982edc495",
   "metadata": {},
   "source": [
    "## Load dataset"
   ]
  },
  {
   "cell_type": "code",
   "execution_count": 4,
   "id": "eaa6a48f-f186-4d81-8f04-ce556f74d406",
   "metadata": {},
   "outputs": [],
   "source": [
    "customers = pd.read_csv('../Customers.csv')\n",
    "transactions = pd.read_csv('../Transactions.csv')"
   ]
  },
  {
   "cell_type": "code",
   "execution_count": 5,
   "id": "3a92b49c-ddfc-45f6-8311-234bf3833c16",
   "metadata": {},
   "outputs": [
    {
     "name": "stdout",
     "output_type": "stream",
     "text": [
      "  TransactionID CustomerID ProductID      TransactionDate  Quantity  \\\n",
      "0        T00001      C0199      P067  2024-08-25 12:38:23         1   \n",
      "1        T00112      C0146      P067  2024-05-27 22:23:54         1   \n",
      "2        T00166      C0127      P067  2024-04-25 07:38:55         1   \n",
      "3        T00272      C0087      P067  2024-03-26 22:55:37         2   \n",
      "4        T00363      C0070      P067  2024-03-21 15:10:10         3   \n",
      "\n",
      "   TotalValue   Price     CustomerName         Region  SignupDate  \n",
      "0      300.68  300.68   Andrea Jenkins         Europe  2022-12-03  \n",
      "1      300.68  300.68  Brittany Harvey           Asia  2024-09-04  \n",
      "2      300.68  300.68  Kathryn Stevens         Europe  2024-04-04  \n",
      "3      601.36  300.68  Travis Campbell  South America  2024-04-11  \n",
      "4      902.04  300.68    Timothy Perez         Europe  2022-03-15  \n"
     ]
    }
   ],
   "source": [
    "merged_data = pd.merge(transactions, customers, on='CustomerID', how='inner')\n",
    "print(merged_data.head())"
   ]
  },
  {
   "cell_type": "markdown",
   "id": "25540c27-45cf-45f0-8364-b598d9f8da78",
   "metadata": {},
   "source": [
    "## Create a Pivot Table"
   ]
  },
  {
   "cell_type": "code",
   "execution_count": 8,
   "id": "303f34fa-f43e-4905-a395-0f9ec9fc228b",
   "metadata": {},
   "outputs": [
    {
     "name": "stdout",
     "output_type": "stream",
     "text": [
      "ProductID   P001  P002  P003  P004  P005  P006  P007  P008  P009  P010  ...  \\\n",
      "CustomerID                                                              ...   \n",
      "C0001        0.0   0.0   0.0   0.0   0.0   0.0   0.0   0.0   0.0   0.0  ...   \n",
      "C0002        0.0   0.0   0.0   4.0   0.0   0.0   0.0   0.0   0.0   0.0  ...   \n",
      "C0003        0.0   4.0   0.0   0.0   0.0   3.0   0.0   0.0   0.0   0.0  ...   \n",
      "C0004        0.0   0.0   0.0   0.0   0.0   0.0   0.0   2.0   0.0   0.0  ...   \n",
      "C0005        0.0   0.0   0.0   0.0   0.0   0.0   0.0   0.0   0.0   0.0  ...   \n",
      "\n",
      "ProductID   P091  P092  P093  P094  P095  P096  P097  P098  P099  P100  \n",
      "CustomerID                                                              \n",
      "C0001        0.0   0.0   0.0   0.0   0.0   2.0   0.0   0.0   0.0   0.0  \n",
      "C0002        0.0   0.0   0.0   0.0   2.0   0.0   0.0   0.0   0.0   0.0  \n",
      "C0003        0.0   0.0   0.0   0.0   0.0   0.0   0.0   0.0   0.0   0.0  \n",
      "C0004        0.0   0.0   0.0   0.0   0.0   0.0   3.0   0.0   0.0   0.0  \n",
      "C0005        0.0   0.0   0.0   0.0   0.0   0.0   0.0   0.0   0.0   0.0  \n",
      "\n",
      "[5 rows x 100 columns]\n"
     ]
    }
   ],
   "source": [
    "customer_product = pd.pivot_table(\n",
    "    merged_data,\n",
    "    values='Quantity', \n",
    "    index='CustomerID',     \n",
    "    columns='ProductID',\n",
    "    fill_value=0            \n",
    ")\n",
    "print(customer_product.head())"
   ]
  },
  {
   "cell_type": "code",
   "execution_count": 9,
   "id": "52d4bb4c-d412-4fa6-88bb-4633e343c191",
   "metadata": {},
   "outputs": [],
   "source": [
    "from sklearn.preprocessing import StandardScaler\n",
    "from sklearn.cluster import KMeans\n",
    "from sklearn.metrics import davies_bouldin_score"
   ]
  },
  {
   "cell_type": "markdown",
   "id": "f7209d0d-f84a-4d32-8c86-dbdaa38b7520",
   "metadata": {},
   "source": [
    "## Normalize the Data"
   ]
  },
  {
   "cell_type": "code",
   "execution_count": 10,
   "id": "993a398b-e50b-4e6b-a17b-294c5a021d3e",
   "metadata": {},
   "outputs": [],
   "source": [
    "scaler = StandardScaler()\n",
    "scaled_data = scaler.fit_transform(customer_product)"
   ]
  },
  {
   "cell_type": "markdown",
   "id": "5673e397-d341-40c0-b909-a0553dab8dc4",
   "metadata": {},
   "source": [
    "## K-means clustering"
   ]
  },
  {
   "cell_type": "code",
   "execution_count": 11,
   "id": "00d2a467-9b85-48f6-8f12-2617afc745cc",
   "metadata": {},
   "outputs": [],
   "source": [
    "kmeans = KMeans(n_clusters=5, random_state=42)\n",
    "labels = kmeans.fit_predict(scaled_data)"
   ]
  },
  {
   "cell_type": "markdown",
   "id": "02fe925d-145e-4651-b9d5-58522b903822",
   "metadata": {},
   "source": [
    "## Evaluate clustering"
   ]
  },
  {
   "cell_type": "code",
   "execution_count": 12,
   "id": "a5e77031-ae66-4720-93ba-a07de4400689",
   "metadata": {},
   "outputs": [
    {
     "name": "stdout",
     "output_type": "stream",
     "text": [
      "Davies-Bouldin Index: 3.9665336461409417\n"
     ]
    }
   ],
   "source": [
    "db_index = davies_bouldin_score(scaled_data, labels)\n",
    "print(f\"Davies-Bouldin Index: {db_index}\")"
   ]
  },
  {
   "cell_type": "markdown",
   "id": "d35bae71-2ac0-44c3-b257-d64e1ecc1894",
   "metadata": {},
   "source": [
    "## Visualize"
   ]
  },
  {
   "cell_type": "code",
   "execution_count": 13,
   "id": "136e4cf5-0fee-4721-8084-a129cc3470b4",
   "metadata": {},
   "outputs": [
    {
     "data": {
      "image/png": "[encoded data removed]",
      "text/plain": [
       "<Figure size 640x480 with 1 Axes>"
      ]
     },
     "metadata": {},
     "output_type": "display_data"
    }
   ],
   "source": [
    "plt.scatter(scaled_data[:, 0], scaled_data[:, 1], c=labels, cmap='viridis', alpha=0.5)\n",
    "plt.title('Customer Clusters')\n",
    "plt.xlabel('Feature 1')\n",
    "plt.ylabel('Feature 2')\n",
    "plt.show()"
   ]
  },
  {
   "cell_type": "code",
   "execution_count": null,
   "id": "08d04396-43cc-48d2-84ab-957ae5534800",
   "metadata": {},
   "outputs": [],
   "source": []
  }
 ],
 "metadata": {
  "kernelspec": {
   "display_name": "Python 3 (ipykernel)",
   "language": "python",
   "name": "python3"
  },
  "language_info": {
   "codemirror_mode": {
    "name": "ipython",
    "version": 3
   },
   "file_extension": ".py",
   "mimetype": "text/x-python",
   "name": "python",
   "nbconvert_exporter": "python",
   "pygments_lexer": "ipython3",
   "version": "3.12.1"
  }
 },
 "nbformat": 4,
 "nbformat_minor": 5
}
