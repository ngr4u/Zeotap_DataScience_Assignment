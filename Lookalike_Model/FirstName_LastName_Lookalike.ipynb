{
 "cells": [
  {
   "cell_type": "code",
   "execution_count": 12,
   "id": "557a4670-bcf0-446c-b754-948a845fb655",
   "metadata": {},
   "outputs": [],
   "source": [
    "import pandas as pd\n",
    "import matplotlib.pyplot as plt\n",
    "import seaborn as sns"
   ]
  },
  {
   "cell_type": "code",
   "execution_count": 14,
   "id": "2bd655ff-18c6-4e59-b54d-b6c67cd6b1c6",
   "metadata": {},
   "outputs": [],
   "source": [
    "customers = pd.read_csv('../Customers.csv')\n",
    "transactions = pd.read_csv('../Transactions.csv')"
   ]
  },
  {
   "cell_type": "code",
   "execution_count": 16,
   "id": "1596fd36-d3d3-4bdf-92c7-91bb580e5af2",
   "metadata": {},
   "outputs": [
    {
     "name": "stdout",
     "output_type": "stream",
     "text": [
      "  TransactionID CustomerID ProductID      TransactionDate  Quantity  \\\n",
      "0        T00001      C0199      P067  2024-08-25 12:38:23         1   \n",
      "1        T00112      C0146      P067  2024-05-27 22:23:54         1   \n",
      "2        T00166      C0127      P067  2024-04-25 07:38:55         1   \n",
      "3        T00272      C0087      P067  2024-03-26 22:55:37         2   \n",
      "4        T00363      C0070      P067  2024-03-21 15:10:10         3   \n",
      "\n",
      "   TotalValue   Price     CustomerName         Region  SignupDate  \n",
      "0      300.68  300.68   Andrea Jenkins         Europe  2022-12-03  \n",
      "1      300.68  300.68  Brittany Harvey           Asia  2024-09-04  \n",
      "2      300.68  300.68  Kathryn Stevens         Europe  2024-04-04  \n",
      "3      601.36  300.68  Travis Campbell  South America  2024-04-11  \n",
      "4      902.04  300.68    Timothy Perez         Europe  2022-03-15  \n"
     ]
    }
   ],
   "source": [
    "merged_data = pd.merge(transactions, customers, on='CustomerID', how='inner')\n",
    "print(merged_data.head())"
   ]
  },
  {
   "cell_type": "code",
   "execution_count": 10,
   "id": "000fcb3a-b812-43a9-b8a2-abdffa197013",
   "metadata": {},
   "outputs": [],
   "source": [
    "from sklearn.metrics.pairwise import cosine_similarity"
   ]
  },
  {
   "cell_type": "markdown",
   "id": "40ba5aa6-cca5-454c-a220-021e2911d291",
   "metadata": {},
   "source": [
    "### Feature engineering: Create a pivot table of customers vs. products"
   ]
  },
  {
   "cell_type": "code",
   "execution_count": 17,
   "id": "1fc6aa9a-63e5-4348-9450-c2ded51b8a0a",
   "metadata": {},
   "outputs": [],
   "source": [
    "customer_product = pd.pivot_table(\n",
    "    merged_data,\n",
    "    values='Quantity',\n",
    "    index='CustomerID',\n",
    "    columns='ProductID',\n",
    "    fill_value=0\n",
    ")"
   ]
  },
  {
   "cell_type": "code",
   "execution_count": 18,
   "id": "67126bb6-e273-4a99-90b0-6a7f47b3d39d",
   "metadata": {},
   "outputs": [
    {
     "name": "stdout",
     "output_type": "stream",
     "text": [
      "ProductID   P001  P002  P003  P004  P005  P006  P007  P008  P009  P010  ...  \\\n",
      "CustomerID                                                              ...   \n",
      "C0001        0.0   0.0   0.0   0.0   0.0   0.0   0.0   0.0   0.0   0.0  ...   \n",
      "C0002        0.0   0.0   0.0   4.0   0.0   0.0   0.0   0.0   0.0   0.0  ...   \n",
      "C0003        0.0   4.0   0.0   0.0   0.0   3.0   0.0   0.0   0.0   0.0  ...   \n",
      "C0004        0.0   0.0   0.0   0.0   0.0   0.0   0.0   2.0   0.0   0.0  ...   \n",
      "C0005        0.0   0.0   0.0   0.0   0.0   0.0   0.0   0.0   0.0   0.0  ...   \n",
      "\n",
      "ProductID   P091  P092  P093  P094  P095  P096  P097  P098  P099  P100  \n",
      "CustomerID                                                              \n",
      "C0001        0.0   0.0   0.0   0.0   0.0   2.0   0.0   0.0   0.0   0.0  \n",
      "C0002        0.0   0.0   0.0   0.0   2.0   0.0   0.0   0.0   0.0   0.0  \n",
      "C0003        0.0   0.0   0.0   0.0   0.0   0.0   0.0   0.0   0.0   0.0  \n",
      "C0004        0.0   0.0   0.0   0.0   0.0   0.0   3.0   0.0   0.0   0.0  \n",
      "C0005        0.0   0.0   0.0   0.0   0.0   0.0   0.0   0.0   0.0   0.0  \n",
      "\n",
      "[5 rows x 100 columns]\n"
     ]
    }
   ],
   "source": [
    "print(customer_product.head())"
   ]
  },
  {
   "cell_type": "markdown",
   "id": "ef112020-5010-4e91-9037-59fdab3ba4d1",
   "metadata": {},
   "source": [
    "## Calculate Similarity"
   ]
  },
  {
   "cell_type": "code",
   "execution_count": 19,
   "id": "7969c5da-ad79-4052-a96d-7c884d01c41d",
   "metadata": {},
   "outputs": [],
   "source": [
    "similarity = cosine_similarity(customer_product)\n",
    "similarity_df = pd.DataFrame(similarity, index=customer_product.index, columns=customer_product.index)"
   ]
  },
  {
   "cell_type": "markdown",
   "id": "f28f8976-d9a3-4ff8-9d52-0a461cc05eae",
   "metadata": {},
   "source": [
    "## Recommend top 3 lookalikes for first 20 customers"
   ]
  },
  {
   "cell_type": "code",
   "execution_count": 20,
   "id": "86118a52-abe5-45ad-be81-bb40dea44384",
   "metadata": {},
   "outputs": [],
   "source": [
    "recommendations = {}\n",
    "for customer in similarity_df.index[:20]:\n",
    "    top_matches = similarity_df.loc[customer].sort_values(ascending=False)[1:4]\n",
    "    recommendations[customer] = top_matches.to_dict()"
   ]
  },
  {
   "cell_type": "code",
   "execution_count": 21,
   "id": "9fb3a642-9ad6-4ca4-a424-fe78f63372f3",
   "metadata": {},
   "outputs": [],
   "source": [
    "recommendation_df = pd.DataFrame.from_dict(recommendations, orient='index')\n",
    "recommendation_df.to_csv('FirstName_LastName_Lookalike.csv')"
   ]
  }
 ],
 "metadata": {
  "kernelspec": {
   "display_name": "Python 3 (ipykernel)",
   "language": "python",
   "name": "python3"
  },
  "language_info": {
   "codemirror_mode": {
    "name": "ipython",
    "version": 3
   },
   "file_extension": ".py",
   "mimetype": "text/x-python",
   "name": "python",
   "nbconvert_exporter": "python",
   "pygments_lexer": "ipython3",
   "version": "3.12.1"
  }
 },
 "nbformat": 4,
 "nbformat_minor": 5
}
